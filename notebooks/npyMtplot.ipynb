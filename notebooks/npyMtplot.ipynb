{
 "cells": [
  {
   "cell_type": "markdown",
   "id": "2ba8fcce-acc0-480d-816e-348a423c00ed",
   "metadata": {},
   "source": [
    "# Numpy and Matplot library "
   ]
  },
  {
   "cell_type": "code",
   "execution_count": 2,
   "id": "4ee93b78-0801-41e7-8c0e-5c1c04d1b8d8",
   "metadata": {},
   "outputs": [],
   "source": [
    "import numpy as np \n",
    "import matplotlib.pyplot as pl"
   ]
  },
  {
   "cell_type": "markdown",
   "id": "3e868c27-78cd-45f4-a66c-c07a4033c82a",
   "metadata": {},
   "source": [
    "### 1)  Basics of numpy :->"
   ]
  },
  {
   "cell_type": "code",
   "execution_count": 4,
   "id": "5d63b28a-8d8d-4d97-947f-223f7a00bb9d",
   "metadata": {},
   "outputs": [],
   "source": [
    " # Convert List into an np array :\n",
    "list =[1,2 ,3.3 , 9 , 0.2323 , \"hii\" , True]"
   ]
  },
  {
   "cell_type": "code",
   "execution_count": 9,
   "id": "de23b859-c461-4a4d-8f97-da3292bd8ddc",
   "metadata": {},
   "outputs": [],
   "source": [
    "l2 = np.array(list)"
   ]
  },
  {
   "cell_type": "code",
   "execution_count": 12,
   "id": "8ca9146d-6d1c-4133-887e-0fb3eab68d91",
   "metadata": {},
   "outputs": [
    {
     "name": "stdout",
     "output_type": "stream",
     "text": [
      "<class 'list'>\n"
     ]
    }
   ],
   "source": [
    "print(type(list))"
   ]
  },
  {
   "cell_type": "code",
   "execution_count": 11,
   "id": "eefabc9d-8347-4e99-9da3-c439cc78f537",
   "metadata": {},
   "outputs": [
    {
     "name": "stdout",
     "output_type": "stream",
     "text": [
      "<class 'numpy.ndarray'>\n"
     ]
    }
   ],
   "source": [
    "print(type(l2))"
   ]
  },
  {
   "cell_type": "code",
   "execution_count": 26,
   "id": "9a58783d-790e-4ea1-a5db-030e7eafe6b0",
   "metadata": {},
   "outputs": [],
   "source": [
    "#  Crating an 1D array \n",
    "oneDarray = np.array([1,2,3,\"hello\"])"
   ]
  },
  {
   "cell_type": "code",
   "execution_count": 41,
   "id": "344025ec-3415-4c39-abe5-acd10fd6c6e7",
   "metadata": {},
   "outputs": [
    {
     "name": "stdout",
     "output_type": "stream",
     "text": [
      "['1' '2' '3' 'hello']\n",
      "<class 'numpy.ndarray'>\n",
      "(4,)\n",
      "1\n",
      "<U21\n"
     ]
    }
   ],
   "source": [
    "print(oneDarray)\n",
    "print(type(twoDarray))\n",
    "print(oneDarray.shape)\n",
    "print(oneDarray.ndim)\n",
    "print(oneDarray.dtype)"
   ]
  },
  {
   "cell_type": "code",
   "execution_count": 38,
   "id": "eb43dfff-f029-4bb4-a699-76b2cbe09089",
   "metadata": {},
   "outputs": [
    {
     "name": "stdout",
     "output_type": "stream",
     "text": [
      "[[  12    3    4  434]\n",
      " [2343  455  355    5]]\n"
     ]
    }
   ],
   "source": [
    "# Creating an 2D array\n",
    "twoDarray = np.array([[12,3,4,434] ,[2343,455,355,5]])\n",
    "print(twoDarray)"
   ]
  },
  {
   "cell_type": "code",
   "execution_count": 40,
   "id": "6436f087-6946-4c86-87eb-4e3cd2fd2b01",
   "metadata": {},
   "outputs": [
    {
     "name": "stdout",
     "output_type": "stream",
     "text": [
      "[[  12    3    4  434]\n",
      " [2343  455  355    5]]\n",
      "<class 'numpy.ndarray'>\n",
      "(2, 4)\n",
      "2\n",
      "int64\n"
     ]
    }
   ],
   "source": [
    "print(twoDarray)\n",
    "print(type(twoDarray))\n",
    "print(twoDarray.shape)\n",
    "print(twoDarray.ndim)\n",
    "print(twoDarray.dtype)"
   ]
  },
  {
   "cell_type": "code",
   "execution_count": 53,
   "id": "fd1788e9-7458-44fc-a70c-0fe9e7a7899c",
   "metadata": {},
   "outputs": [
    {
     "name": "stdout",
     "output_type": "stream",
     "text": [
      "[[[  1   2   3  34]\n",
      "  [  2   4   5   5]\n",
      "  [  4   5   6 345]]\n",
      "\n",
      " [[  1   2   3  34]\n",
      "  [  2   4   5   5]\n",
      "  [  4   5   6 345]]]\n"
     ]
    }
   ],
   "source": [
    "# Creating an 3D Array :->\n",
    "threeDarray = np.array([[[1,2,3,34] ,[2,4,5,5] , [4,5,6,345]] ,  \n",
    "                        [[1,2,3,34] ,[2,4,5,5] , [4,5,6,345]]])\n",
    "print(threeDarray)"
   ]
  },
  {
   "cell_type": "code",
   "execution_count": 54,
   "id": "106dd4ae-6462-4627-9ae5-5f8eb18c1ce7",
   "metadata": {},
   "outputs": [
    {
     "name": "stdout",
     "output_type": "stream",
     "text": [
      "<class 'numpy.ndarray'>\n",
      "(2, 3, 4)\n",
      "3\n",
      "int64\n"
     ]
    }
   ],
   "source": [
    "print(type(threeDarray))\n",
    "print(threeDarray.shape)\n",
    "print(threeDarray.ndim)\n",
    "print(threeDarray.dtype)"
   ]
  },
  {
   "cell_type": "code",
   "execution_count": 57,
   "id": "441ceac3-7418-4ef2-8e96-a91e40a22dca",
   "metadata": {},
   "outputs": [
    {
     "name": "stdout",
     "output_type": "stream",
     "text": [
      "[[[[  1   2   3  34]\n",
      "   [  2   4   5   5]\n",
      "   [  4   5   6 345]]]\n",
      "\n",
      "\n",
      " [[[  1   2   3  34]\n",
      "   [  2   4   5   5]\n",
      "   [  4   5   6 345]]]\n",
      "\n",
      "\n",
      " [[[  1   2   3  34]\n",
      "   [  2   4   5   5]\n",
      "   [  4   5   6 345]]]]\n"
     ]
    }
   ],
   "source": [
    "# Creating an four dimension array :-> \n",
    "fourDarray = np.array([[[[1,2,3,34] ,[2,4,5,5] , [4,5,6,345]]] , \n",
    "                       [[[1,2,3,34] ,[2,4,5,5] , [4,5,6,345]]] ,\n",
    "                       [[[1,2,3,34] ,[2,4,5,5] , [4,5,6,345]]] ])\n",
    "print(fourDarray)"
   ]
  },
  {
   "cell_type": "code",
   "execution_count": 58,
   "id": "466cd3fb-da09-438c-b77d-d9081e2e1b25",
   "metadata": {},
   "outputs": [
    {
     "name": "stdout",
     "output_type": "stream",
     "text": [
      "<class 'numpy.ndarray'>\n",
      "(3, 1, 3, 4)\n",
      "4\n",
      "int64\n"
     ]
    }
   ],
   "source": [
    "print(type(fourDarray))\n",
    "print(fourDarray.shape)\n",
    "print(fourDarray.ndim)\n",
    "print(fourDarray.dtype)"
   ]
  },
  {
   "cell_type": "markdown",
   "id": "fddef122-be6a-4f6b-bab6-5e463f8c361b",
   "metadata": {},
   "source": [
    "### 2) Different ways to create an numpy array :-> "
   ]
  },
  {
   "cell_type": "code",
   "execution_count": 116,
   "id": "da6b8ccc-5650-4e6c-9a80-f0b33e9bc8a3",
   "metadata": {},
   "outputs": [
    {
     "name": "stdout",
     "output_type": "stream",
     "text": [
      "[ 1  3  5  7  9 11 13 15]\n",
      "[ 1.  3.  5.  7.  9. 11. 13. 15.]\n"
     ]
    }
   ],
   "source": [
    "# 1) Arrange \n",
    "arrange = np.arange(1,17,2)\n",
    "print(arrange)\n",
    "\n",
    "# Reshape\n",
    "arrange.reshape(4,2)\n",
    "\n",
    "# Astype\n",
    "ar = arrange.astype(np.float32)\n",
    "print(ar)"
   ]
  },
  {
   "cell_type": "code",
   "execution_count": 105,
   "id": "8a8023e1-0f61-427a-bbd3-ed81b357a2aa",
   "metadata": {},
   "outputs": [
    {
     "data": {
      "text/plain": [
       "array([1.   , 1.375, 1.75 , 2.125, 2.5  , 2.875, 3.25 , 3.625, 4.   ])"
      ]
     },
     "execution_count": 105,
     "metadata": {},
     "output_type": "execute_result"
    }
   ],
   "source": [
    "# 2) Linspace\n",
    "np.linspace(1,4,9)"
   ]
  },
  {
   "cell_type": "code",
   "execution_count": 109,
   "id": "e01f51cc-1321-4b68-8e92-81ba4edcc327",
   "metadata": {},
   "outputs": [
    {
     "name": "stdout",
     "output_type": "stream",
     "text": [
      "[[0. 0.]\n",
      " [0. 0.]]\n"
     ]
    }
   ],
   "source": [
    "# 3) Zeros \n",
    "zeros = np.zeros((2,2))\n",
    "print(zeros)"
   ]
  },
  {
   "cell_type": "code",
   "execution_count": 115,
   "id": "8302f410-a311-454d-b508-1131010e7404",
   "metadata": {},
   "outputs": [
    {
     "name": "stdout",
     "output_type": "stream",
     "text": [
      "[[1. 1.]\n",
      " [1. 1.]]\n"
     ]
    }
   ],
   "source": [
    "# 4) Ones \n",
    "ones = np.ones((2,2))\n",
    "print(ones)"
   ]
  },
  {
   "cell_type": "markdown",
   "id": "12cee2fd-5115-484e-9def-cbe88b77012e",
   "metadata": {},
   "source": [
    "### 3) Create an arrays of Random numbers :->"
   ]
  },
  {
   "cell_type": "code",
   "execution_count": 13,
   "id": "2d33c48f-f3cc-4327-bba3-d31ae1300320",
   "metadata": {},
   "outputs": [
    {
     "data": {
      "text/plain": [
       "array([[0.6762549 , 0.59086282],\n",
       "       [0.02398188, 0.55885409],\n",
       "       [0.25925245, 0.4151012 ]])"
      ]
     },
     "execution_count": 13,
     "metadata": {},
     "output_type": "execute_result"
    }
   ],
   "source": [
    "# Will give an random numbers bw 0 and 1 (Exclusive):->\n",
    "randArray = np.random.rand(3 ,2)\n",
    "randArray"
   ]
  },
  {
   "cell_type": "code",
   "execution_count": 11,
   "id": "1ecf22bc-3525-49da-8440-558ec5b46e9d",
   "metadata": {
    "scrolled": true
   },
   "outputs": [
    {
     "data": {
      "text/plain": [
       "array([[ 34,  13,  66,  82],\n",
       "       [ 10,  31,  29,  84],\n",
       "       [ 51,  20,  31,  48],\n",
       "       [106,  30,  54, 103]])"
      ]
     },
     "execution_count": 11,
     "metadata": {},
     "output_type": "execute_result"
    }
   ],
   "source": [
    "np.random.seed(3)\n",
    "rand2  =np.random.randint(size=(4,4) ,high = 110 ,low = 10)\n",
    "rand2"
   ]
  },
  {
   "cell_type": "markdown",
   "id": "3b81ff11-ad72-463d-9bf3-66821e7b0f13",
   "metadata": {},
   "source": [
    "# 2) matplotlib"
   ]
  },
  {
   "cell_type": "markdown",
   "id": "c0ea2b57-3f15-4eff-afad-2cef78344425",
   "metadata": {},
   "source": [
    "### 1) Create a first visualisation using matplotlib as pyplot "
   ]
  },
  {
   "cell_type": "code",
   "execution_count": 158,
   "id": "a52373a1-17d9-41e9-8715-2260884337f1",
   "metadata": {},
   "outputs": [
    {
     "data": {
      "text/plain": [
       "array([1.   , 1.375, 1.75 , 2.125, 2.5  , 2.875, 3.25 , 3.625, 4.   ])"
      ]
     },
     "execution_count": 158,
     "metadata": {},
     "output_type": "execute_result"
    }
   ],
   "source": [
    "x = np.linspace(1,4,9)\n",
    "x"
   ]
  },
  {
   "cell_type": "code",
   "execution_count": 160,
   "id": "420bd598-dfe0-40c6-ba99-eafaf8e4d569",
   "metadata": {},
   "outputs": [
    {
     "data": {
      "text/plain": [
       "array([ 1.      ,  1.890625,  3.0625  ,  4.515625,  6.25    ,  8.265625,\n",
       "       10.5625  , 13.140625, 16.      ])"
      ]
     },
     "execution_count": 160,
     "metadata": {},
     "output_type": "execute_result"
    }
   ],
   "source": [
    "y = x**2\n",
    "y"
   ]
  },
  {
   "cell_type": "code",
   "execution_count": 164,
   "id": "3b405457-d77d-4c9c-ba4e-9944767a3a65",
   "metadata": {},
   "outputs": [
    {
     "data": {
      "image/png": "[encoded data removed]",
      "text/plain": [
       "<Figure size 640x480 with 1 Axes>"
      ]
     },
     "metadata": {},
     "output_type": "display_data"
    }
   ],
   "source": [
    "pl.scatter(x,y)   # OR  pl.plot(x,y)   \n",
    "pl.show()"
   ]
  },
  {
   "cell_type": "markdown",
   "id": "2088c9c2-3520-4894-bde0-7a27fd5e4a4f",
   "metadata": {},
   "source": [
    "### CUSTOMIZE the plots "
   ]
  },
  {
   "cell_type": "code",
   "execution_count": 14,
   "id": "9ef47928-d4e7-4ec8-862a-1a6473177c71",
   "metadata": {},
   "outputs": [
    {
     "data": {
      "image/png": "[encoded data removed]",
      "text/plain": [
       "<Figure size 640x480 with 1 Axes>"
      ]
     },
     "metadata": {},
     "output_type": "display_data"
    }
   ],
   "source": [
    "x = np.linspace(-10 ,10 , 150)\n",
    "y = x**2\n",
    "pl.grid()\n",
    "# pl.figure(figsize =(5,3))\n",
    "pl.plot(x,y)\n",
    "pl.title(\" Squared Numbers \" , color = \"tab:pink\" , weight =\"bold\" ,fontsize =17)\n",
    "pl.xlabel('brightness of star', color = \"r\" , weight =\"bold\" ,fontsize =14)\n",
    "pl.ylabel('size of star' ,color = \"b\" , weight =\"bold\" ,fontsize =14)\n",
    "# pl.axis('off')\n",
    "pl.show()\n"
   ]
  },
  {
   "cell_type": "code",
   "execution_count": null,
   "id": "281aeab8-78da-4b5d-bff4-d2b792767db8",
   "metadata": {},
   "outputs": [],
   "source": []
  }
 ],
 "metadata": {
  "kernelspec": {
   "display_name": "Python 3 (ipykernel)",
   "language": "python",
   "name": "python3"
  },
  "language_info": {
   "codemirror_mode": {
    "name": "ipython",
    "version": 3
   },
   "file_extension": ".py",
   "mimetype": "text/x-python",
   "name": "python",
   "nbconvert_exporter": "python",
   "pygments_lexer": "ipython3",
   "version": "3.9.19"
  },
  "widgets": {
   "application/vnd.jupyter.widget-state+json": {
    "state": {},
    "version_major": 2,
    "version_minor": 0
   }
  }
 },
 "nbformat": 4,
 "nbformat_minor": 5
}
