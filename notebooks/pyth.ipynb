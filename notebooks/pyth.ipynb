{
 "cells": [
  {
   "cell_type": "markdown",
   "metadata": {},
   "source": [
    "   ## Python Space Project "
   ]
  },
  {
   "cell_type": "code",
   "execution_count": 1,
   "metadata": {},
   "outputs": [],
   "source": [
    "class Rocket():\n",
    "    pass \n"
   ]
  },
  {
   "cell_type": "markdown",
   "metadata": {},
   "source": [
    "### Atttributes "
   ]
  },
  {
   "cell_type": "code",
   "execution_count": 52,
   "metadata": {},
   "outputs": [],
   "source": [
    "class Rocket() :\n",
    "    def __init__(self):\n",
    "        self.x = 0 \n",
    "        self.y = 0\n",
    "# Add a method that will make your rocket move upward whenever it is called :\n",
    "    def upward(self):\n",
    "        self.y += 1 \n",
    "        "
   ]
  },
  {
   "cell_type": "code",
   "execution_count": 53,
   "metadata": {},
   "outputs": [],
   "source": [
    "rocket1  = Rocket()"
   ]
  },
  {
   "cell_type": "code",
   "execution_count": 54,
   "metadata": {},
   "outputs": [
    {
     "name": "stdout",
     "output_type": "stream",
     "text": [
      "<__main__.Rocket object at 0x1081662b0>\n"
     ]
    }
   ],
   "source": [
    "print(rocket1)"
   ]
  },
  {
   "cell_type": "code",
   "execution_count": 55,
   "metadata": {},
   "outputs": [
    {
     "data": {
      "text/plain": [
       "__main__.Rocket"
      ]
     },
     "execution_count": 55,
     "metadata": {},
     "output_type": "execute_result"
    }
   ],
   "source": [
    "type(rocket1)"
   ]
  },
  {
   "cell_type": "code",
   "execution_count": 56,
   "metadata": {},
   "outputs": [
    {
     "data": {
      "text/plain": [
       "0"
      ]
     },
     "execution_count": 56,
     "metadata": {},
     "output_type": "execute_result"
    }
   ],
   "source": [
    "rocket1.x"
   ]
  },
  {
   "cell_type": "code",
   "execution_count": 57,
   "metadata": {},
   "outputs": [
    {
     "data": {
      "text/plain": [
       "0"
      ]
     },
     "execution_count": 57,
     "metadata": {},
     "output_type": "execute_result"
    }
   ],
   "source": [
    "rocket1.y"
   ]
  },
  {
   "cell_type": "code",
   "execution_count": 58,
   "metadata": {},
   "outputs": [
    {
     "name": "stdout",
     "output_type": "stream",
     "text": [
      " y cooridate for rocket1 : 0\n"
     ]
    }
   ],
   "source": [
    "print(f''' y cooridate for rocket1 : {rocket1.y}''')"
   ]
  },
  {
   "cell_type": "code",
   "execution_count": 61,
   "metadata": {},
   "outputs": [
    {
     "name": "stdout",
     "output_type": "stream",
     "text": [
      " y cooridate of rocket1 :  and the value in y direction is 1\n"
     ]
    }
   ],
   "source": [
    "print(f''' y cooridate of rocket1 :  and the value in y direction is {rocket1.y}''')"
   ]
  },
  {
   "cell_type": "code",
   "execution_count": 60,
   "metadata": {},
   "outputs": [],
   "source": [
    "rocket1.upward()"
   ]
  },
  {
   "cell_type": "code",
   "execution_count": null,
   "metadata": {},
   "outputs": [],
   "source": []
  },
  {
   "cell_type": "code",
   "execution_count": 89,
   "metadata": {},
   "outputs": [],
   "source": [
    "class Rocket() :\n",
    "    def __init__(self , p= 0  , q =0 ):\n",
    "        self.x = p\n",
    "        self.y = q\n",
    "# Add a method that will make your rocket move upward whenever it is called :\n",
    "    def moveRocket(self , x_inc = 0 ,y_inc = 0):\n",
    "        self.x += x_inc\n",
    "        self.y += y_inc"
   ]
  },
  {
   "cell_type": "markdown",
   "metadata": {},
   "source": [
    "### Customising an existing user class :"
   ]
  },
  {
   "cell_type": "code",
   "execution_count": 90,
   "metadata": {},
   "outputs": [
    {
     "name": "stdout",
     "output_type": "stream",
     "text": [
      "now the position of the rocket is (10,12) coordinates \n"
     ]
    }
   ],
   "source": [
    "rocket2 = Rocket(10 , 12)\n",
    "print(f'now the position of the rocket is ({rocket2.x},{rocket2.y}) coordinates ')"
   ]
  },
  {
   "cell_type": "code",
   "execution_count": 91,
   "metadata": {},
   "outputs": [],
   "source": [
    "rocket3 = Rocket()"
   ]
  },
  {
   "cell_type": "code",
   "execution_count": 98,
   "metadata": {},
   "outputs": [
    {
     "name": "stdout",
     "output_type": "stream",
     "text": [
      "now the position of the rocket is (24,94) coordinates \n"
     ]
    }
   ],
   "source": [
    "rocket3.moveRocket(4 , 90 )\n",
    "print(f'now the position of the rocket is ({rocket3.x},{rocket3.y}) coordinates ')"
   ]
  },
  {
   "cell_type": "markdown",
   "metadata": {},
   "source": [
    "## ADD one method which calc distance between two rockets "
   ]
  },
  {
   "cell_type": "code",
   "execution_count": 103,
   "metadata": {},
   "outputs": [],
   "source": [
    " #                           r2\n",
    " #                         🪈|\n",
    " #                       🪈  |    \n",
    " #                     🪈    |\n",
    " #                   🪈      |\n",
    " #     hypotenuse  🪈        |\n",
    " #               🪈          |  height \n",
    " #             🪈            |\n",
    " #           🪈              |\n",
    " #         🪈                |\n",
    " #       r1------------------0\n",
    " #         base \n",
    "\n",
    " # hyp = sqrt(b^2 + p^2)\n",
    " # dist bw two Rockets = sqrt(x^2 + y^2)"
   ]
  },
  {
   "cell_type": "code",
   "execution_count": 118,
   "metadata": {},
   "outputs": [],
   "source": [
    "class Rocket() :\n",
    "    def __init__(self , p= 0  , q =0 ):\n",
    "        self.x = p\n",
    "        self.y = q\n",
    "        \n",
    "# Add a method that will make your rocket move upward whenever it is called :\n",
    "    def moveRocket(self , x_inc = 0 ,y_inc = 0):\n",
    "        self.x += x_inc\n",
    "        self.y += y_inc\n",
    "\n",
    "# Calc distance bw two Rockets : \n",
    "    def dist_Bw_Rockets(self , otherRocket):\n",
    "        diffx =  self.x - otherRocket.x \n",
    "        diffy =  self.y - otherRocket.y \n",
    "            \n",
    "        distance = ( diffx**2  + diffy**2 )**0.5\n",
    "\n",
    "        return round(distance , 3)\n"
   ]
  },
  {
   "cell_type": "code",
   "execution_count": 119,
   "metadata": {},
   "outputs": [
    {
     "name": "stdout",
     "output_type": "stream",
     "text": [
      " rocket5 is at (0,10) \n"
     ]
    }
   ],
   "source": [
    "rocket5 = Rocket(0 , 10)\n",
    "print(f\" rocket5 is at ({rocket5.x},{rocket5.y}) \")"
   ]
  },
  {
   "cell_type": "code",
   "execution_count": 120,
   "metadata": {},
   "outputs": [
    {
     "name": "stdout",
     "output_type": "stream",
     "text": [
      " rocket6 is at (0,5) \n"
     ]
    }
   ],
   "source": [
    "rocket6 = Rocket(0 , 5)\n",
    "print(f\" rocket6 is at ({rocket6.x},{rocket6.y}) \")"
   ]
  },
  {
   "cell_type": "code",
   "execution_count": 121,
   "metadata": {},
   "outputs": [],
   "source": [
    "dist_5_6 = rocket5.dist_Bw_Rockets(rocket6)"
   ]
  },
  {
   "cell_type": "code",
   "execution_count": 122,
   "metadata": {},
   "outputs": [
    {
     "data": {
      "text/plain": [
       "5.0"
      ]
     },
     "execution_count": 122,
     "metadata": {},
     "output_type": "execute_result"
    }
   ],
   "source": [
    "dist_5_6"
   ]
  },
  {
   "cell_type": "code",
   "execution_count": 127,
   "metadata": {},
   "outputs": [
    {
     "name": "stdout",
     "output_type": "stream",
     "text": [
      " So the rocket2 has (3, 2)  and   rocket3 has (2, 2) \n"
     ]
    }
   ],
   "source": [
    "rocket2 = Rocket(3, 2)\n",
    "rocket3 = Rocket(2 , 2)\n",
    "print(f\" So the rocket2 has {(rocket2.x, rocket2.y)}  and   rocket3 has {(rocket3.x, rocket3.y)} \")"
   ]
  },
  {
   "cell_type": "code",
   "execution_count": 129,
   "metadata": {},
   "outputs": [
    {
     "name": "stdout",
     "output_type": "stream",
     "text": [
      "1.0\n"
     ]
    }
   ],
   "source": [
    "dist2_3 = rocket2.dist_Bw_Rockets(rocket3)\n",
    "print(dist2_3)"
   ]
  },
  {
   "cell_type": "code",
   "execution_count": 130,
   "metadata": {},
   "outputs": [],
   "source": [
    "#move Rocket5 (-15 , 10)\n",
    "rocket5.moveRocket(-15 , 0 )"
   ]
  },
  {
   "cell_type": "code",
   "execution_count": 131,
   "metadata": {},
   "outputs": [
    {
     "name": "stdout",
     "output_type": "stream",
     "text": [
      " So the rocket5 has (-15, 10) \n"
     ]
    }
   ],
   "source": [
    "print(f\" So the rocket5 has {(rocket5.x, rocket5.y)} \")"
   ]
  },
  {
   "cell_type": "code",
   "execution_count": null,
   "metadata": {},
   "outputs": [],
   "source": []
  }
 ],
 "metadata": {
  "kernelspec": {
   "display_name": "Python 3 (ipykernel)",
   "language": "python",
   "name": "python3"
  },
  "language_info": {
   "codemirror_mode": {
    "name": "ipython",
    "version": 3
   },
   "file_extension": ".py",
   "mimetype": "text/x-python",
   "name": "python",
   "nbconvert_exporter": "python",
   "pygments_lexer": "ipython3",
   "version": "3.9.19"
  },
  "widgets": {
   "application/vnd.jupyter.widget-state+json": {
    "state": {},
    "version_major": 2,
    "version_minor": 0
   }
  }
 },
 "nbformat": 4,
 "nbformat_minor": 4
}
